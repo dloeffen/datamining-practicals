{
 "cells": [
  {
   "cell_type": "markdown",
   "metadata": {},
   "source": [
    "# Clustering Exercises\n",
    "This jupyter notebook provides some exercises with regard to clustering. \n",
    "## Distance\n",
    "A clustering algorithm often uses some notion of distance between datapoints to divide the datapoints in clusters. Therefore as a first exercise, we will define some definition of distance. An often used distance measure is the $L^p$ norm. The $L^p$ norm is often defined as:\n",
    "\n",
    "\\begin{align}\n",
    "\\left\\| \\textbf{x} \\right\\|_p := \\left( \\sum_{i=1}^{n} \\lvert x_i \\rvert^p \\right)^{1/p}\n",
    "\\end{align}\n",
    "\n",
    "In this definition, the most often chosen values for $p$ are 1, 2 and $\\infty$. \n",
    "- The $L^1$ norm is ofthen called the Taxicab norm or the Manhattan norm: see [Taxicab geometry](https://en.wikipedia.org/wiki/Taxicab_geometry).\n",
    "- The $L^2$ norm is the same as the Euclidian distance.\n",
    "- The $L^\\infty$ norm is the same as the max(.) operator.\n",
    "\n",
    "Now to practice some basic python and numpy, implement the euclidian distance using only simple matrix operations, in  `./code/utils.py`"
   ]
  },
  {
   "cell_type": "code",
   "execution_count": 1,
   "metadata": {},
   "outputs": [
    {
     "name": "stdout",
     "output_type": "stream",
     "text": [
      "10.392304845413264\n"
     ]
    }
   ],
   "source": [
    "import numpy as np\n",
    "\n",
    "import sys\n",
    "sys.path.append('code/')\n",
    "\n",
    "import utils\n",
    "\n",
    "x = np.asarray([1,2,3])[:,np.newaxis]\n",
    "y = np.asarray([7,8,9])[:,np.newaxis]\n",
    "\n",
    "L2 = utils.euclidian_distance(x,y)\n",
    "print(L2)"
   ]
  },
  {
   "cell_type": "markdown",
   "metadata": {},
   "source": [
    "## K-means\n",
    "In this section we will try to implement a simple k-means clustering algorithm. To start we will make a dataset with *three* gaussian distributions."
   ]
  },
  {
   "cell_type": "code",
   "execution_count": 2,
   "metadata": {},
   "outputs": [
    {
     "data": {
      "text/plain": [
       "[<matplotlib.lines.Line2D at 0x7f98c25bc0a0>]"
      ]
     },
     "execution_count": 2,
     "metadata": {},
     "output_type": "execute_result"
    },
    {
     "data": {
      "image/png": "[encoded data removed]",
      "text/plain": [
       "<Figure size 432x288 with 1 Axes>"
      ]
     },
     "metadata": {
      "needs_background": "light"
     },
     "output_type": "display_data"
    }
   ],
   "source": [
    "import numpy as np\n",
    "import matplotlib.pyplot as plt\n",
    "\n",
    "import sys\n",
    "sys.path.append('code/')\n",
    "\n",
    "import utils\n",
    "\n",
    "\n",
    "def generate_k_gaussian_distributions(k, dimensions=2, number_of_datapoints=150, min_value=0, max_value=20, min_sigma=1, max_sigma=2):\n",
    "        # Allocate memory\n",
    "        dataset = np.zeros((k*number_of_datapoints, dimensions))\n",
    "        labels = np.zeros((k*number_of_datapoints, 1))\n",
    "        \n",
    "        # Fill dataset and labels with d dimensional data\n",
    "        for i in range(1,k+1):\n",
    "            x = np.random.randint(min_value, max_value)\n",
    "            y = np.random.randint(min_value, max_value)\n",
    "            sigma = utils.random_float(min_sigma, max_sigma)\n",
    "            dataset[(i-1)*number_of_datapoints:i*number_of_datapoints] = np.random.normal((x,y), scale=sigma, size=(number_of_datapoints, dimensions))\n",
    "            labels[(i-1)*number_of_datapoints:i*number_of_datapoints] = (i-1)\n",
    "        \n",
    "        # Return the data and labels\n",
    "        return dataset, labels\n",
    "\n",
    "# Seed at 10 does not give to much overlap between samples\n",
    "# Thus is a nice starting point for this exercise\n",
    "np.random.seed(10)\n",
    "X, y = generate_k_gaussian_distributions(3)\n",
    "\n",
    "plt.plot(X[:,0], X[:,1], 'r.')"
   ]
  },
  {
   "cell_type": "markdown",
   "metadata": {},
   "source": [
    "For this exercise we are going to assume that we already found out how many cluster we need. Namely, $k=3$. Implement the fitting of the k-means algorithm in `./code/kmeans.py` and implement the prediction of the targets. Try and implement with basic matrix operations, speed in this case is not a priority. Some hints are given."
   ]
  },
  {
   "cell_type": "code",
   "execution_count": 3,
   "metadata": {},
   "outputs": [
    {
     "name": "stdout",
     "output_type": "stream",
     "text": [
      "mu start: \n",
      "[[7.30291583 2.2004012 ]\n",
      " [2.62724166 9.67605237]\n",
      " [5.20348073 2.47366068]]\n",
      "\n",
      "mu new: \n",
      "[[7.30291583 2.2004012 ]\n",
      " [2.62724166 9.67605237]\n",
      " [5.20348073 2.47366068]]\n",
      "\n",
      "mu old (loop 1): \n",
      "[[7.30291583 2.2004012 ]\n",
      " [2.62724166 9.67605237]\n",
      " [5.20348073 2.47366068]]\n",
      "\n",
      "mu new (loop 1): \n",
      "[[ 9.07930442  3.96183638]\n",
      " [ 6.7536215  11.59752002]\n",
      " [ 2.52068861  4.46345349]]\n",
      "\n",
      "mu new and old the same: \n",
      "True\n",
      "\n"
     ]
    }
   ],
   "source": [
    "import sys\n",
    "sys.path.append('code/')\n",
    "\n",
    "import kmeans\n",
    "\n",
    "k=3\n",
    "alpha=0.01\n",
    "\n",
    "# set a convenient value for alpha, alpha is a cut off value\n",
    "# e.g. shutdown the algorithm if the means are not changing anymore\n",
    "# alpha = ?\n",
    "mu = kmeans.fit(X, k, alpha)\n",
    "y_predict = kmeans.predict(X, mu)\n"
   ]
  },
  {
   "cell_type": "code",
   "execution_count": null,
   "metadata": {},
   "outputs": [],
   "source": []
  },
  {
   "cell_type": "markdown",
   "metadata": {},
   "source": [
    "## Ideas for additional topics\n",
    "### Hierarchical clustering"
   ]
  }
 ],
 "metadata": {
  "kernelspec": {
   "display_name": "Python 3",
   "language": "python",
   "name": "python3"
  },
  "language_info": {
   "codemirror_mode": {
    "name": "ipython",
    "version": 3
   },
   "file_extension": ".py",
   "mimetype": "text/x-python",
   "name": "python",
   "nbconvert_exporter": "python",
   "pygments_lexer": "ipython3",
   "version": "3.8.5"
  }
 },
 "nbformat": 4,
 "nbformat_minor": 4
}
