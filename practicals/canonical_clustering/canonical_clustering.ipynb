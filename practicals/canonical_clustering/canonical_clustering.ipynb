{
 "cells": [
  {
   "cell_type": "markdown",
   "metadata": {},
   "source": [
    "# Canonical Clustering\n",
    "\n",
    "## $k$ Nearest-Neighbor\n",
    "### Distance Measure\n",
    "The $k$ nearest neighbor is based on the simple idea that when a sample is close to other samples, changes are that they share the same label. To know how close one sample is from another sample, there needs to be a notion of close. For this application we will use euclidian distance also known as the $L^2$ norm\n",
    "\n",
    "$$ \\left\\| x \\right\\|_2 \\overset{\\textrm{def}}= \\left( \\sum_{i=1}^n x_i^2 \\right)^{1/2}$$\n",
    "\n",
    "### Classification\n",
    "In classification we would like to assign certain samples to a class. To do so we would like to implement an algorithm that assigns the class based on the classes of the $k$ nearest neighbors. Try to do so in `.code/knn.py`"
   ]
  },
  {
   "cell_type": "code",
   "execution_count": 2,
   "metadata": {},
   "outputs": [
    {
     "name": "stdout",
     "output_type": "stream",
     "text": [
      "(150, 4)\n",
      "(150,)\n"
     ]
    }
   ],
   "source": [
    "import sys\n",
    "sys.path.append('code/')\n",
    "import knn\n",
    "\n",
    "from sklearn import datasets, model_selection\n",
    "\n",
    "# import some data to play with\n",
    "X, y = datasets.load_iris(return_X_y=True)\n",
    "\n",
    "# inspect the shape of the data\n",
    "print(X.shape)\n",
    "print(y.shape)\n",
    "\n",
    "# split data into train and test\n",
    "X_train, X_test, y_train, y_test = model_selection.train_test_split(X, y)\n",
    "\n",
    "# fit model\n",
    "model = knn.fit(X_train, y_train)\n",
    "\n",
    "# and predict\n",
    "y_predicted = knn.predict(X_test, model)\n",
    "\n",
    "# evaluate predictions using y_predicted and y"
   ]
  },
  {
   "cell_type": "code",
   "execution_count": null,
   "metadata": {},
   "outputs": [],
   "source": []
  }
 ],
 "metadata": {
  "kernelspec": {
   "display_name": "Python 3",
   "language": "python",
   "name": "python3"
  },
  "language_info": {
   "codemirror_mode": {
    "name": "ipython",
    "version": 3
   },
   "file_extension": ".py",
   "mimetype": "text/x-python",
   "name": "python",
   "nbconvert_exporter": "python",
   "pygments_lexer": "ipython3",
   "version": "3.8.5"
  }
 },
 "nbformat": 4,
 "nbformat_minor": 4
}
